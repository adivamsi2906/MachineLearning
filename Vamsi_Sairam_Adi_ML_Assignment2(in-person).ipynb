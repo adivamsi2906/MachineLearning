{
  "nbformat": 4,
  "nbformat_minor": 0,
  "metadata": {
    "colab": {
      "provenance": []
    },
    "kernelspec": {
      "name": "python3",
      "display_name": "Python 3"
    },
    "language_info": {
      "name": "python"
    }
  },
  "cells": [
    {
      "cell_type": "code",
      "execution_count": null,
      "metadata": {
        "colab": {
          "base_uri": "https://localhost:8080/"
        },
        "id": "MHopeuPmJg7o",
        "outputId": "ce2429c5-34eb-47d0-8f4e-7f10f992f6a2"
      },
      "outputs": [
        {
          "output_type": "stream",
          "name": "stdout",
          "text": [
            "please enter the height: 5\n",
            "\n",
            "*\n",
            "**\n",
            "***\n",
            "****\n",
            "*****\n",
            "****\n",
            "***\n",
            "**\n",
            "*\n",
            "\n"
          ]
        }
      ],
      "source": [
        "#1. Use a python code to display the following star pattern using the for loop\n",
        "N=int(input(\"please enter the height: \"))\n",
        "for i in range(N):\n",
        "  print(i*'*')\n",
        "for j in reversed(range(N+1)):\n",
        "  print(j*'*')\n",
        "# reversed() function is used to iterate in reverse order so we have invoked range() inside reversed() function in python"
      ]
    },
    {
      "cell_type": "code",
      "source": [
        "#2.Use looping to output the elements from a provided list present at odd indexes.\n",
        "inp_list=list(map(int,input(\"enter the elements of list: \").split(\" \")))\n",
        "# we are using the 3rd parameter called \"step\" of range() funtion in python to  print odd charecters  \n",
        "for i in range(1,len(inp_list),2):\n",
        "  print(inp_list[i], end=\" \")"
      ],
      "metadata": {
        "colab": {
          "base_uri": "https://localhost:8080/"
        },
        "id": "SIOU4kc4KxjO",
        "outputId": "8b2a9f3c-9524-4c6f-d913-83a783bba452"
      },
      "execution_count": null,
      "outputs": [
        {
          "output_type": "stream",
          "name": "stdout",
          "text": [
            "enter the elements of list: 11 22 33 44 55 66 77 88 99\n",
            "22 44 66 88 "
          ]
        }
      ]
    },
    {
      "cell_type": "code",
      "source": [
        "#3.Write a code that appends the type of elements from a given list.\n",
        "#inp_list=list(input(\"enter the elements of list: \").split(\" \"))\n",
        "inp_list=[\"USA\",12, 33.23,'s',True]\n",
        "print(inp_list)\n",
        "data_type_list=[]\n",
        "# we are using the function type() in python to implement the solution which gives data types of elements \n",
        "for i in range(len(inp_list)):\n",
        "  data_type_list.append(type(inp_list[i]))\n",
        "print(data_type_list)"
      ],
      "metadata": {
        "colab": {
          "base_uri": "https://localhost:8080/"
        },
        "id": "DOHNSJjsNCrZ",
        "outputId": "b77dc7e7-76f1-4296-e183-928bc35b76ac"
      },
      "execution_count": null,
      "outputs": [
        {
          "output_type": "stream",
          "name": "stdout",
          "text": [
            "['USA', 12, 33.23, 's', True]\n",
            "[<class 'str'>, <class 'int'>, <class 'float'>, <class 'str'>, <class 'bool'>]\n"
          ]
        }
      ]
    },
    {
      "cell_type": "code",
      "source": [
        "#4.Write a function that takes a list and returns a new list with unique items of the first list.\n",
        "inp_list=list(map(int,input(\"enter the elements of list: \").split(\" \")))\n",
        "unique_list=[]\n",
        "for i in inp_list:\n",
        "  if i not in unique_list:\n",
        "    unique_list.append(i)\n",
        "  else:\n",
        "    pass\n",
        "#in the above for loop we have iterated through the list and we have verified if that particular element is present in the unique_list or not \n",
        "print(\"The unique elements from the list are:\",end=\" \")\n",
        "print(unique_list)"
      ],
      "metadata": {
        "colab": {
          "base_uri": "https://localhost:8080/"
        },
        "id": "6YFxhu26Rrov",
        "outputId": "bac60c13-2d0e-4622-9c2f-76c9064dbc3d"
      },
      "execution_count": null,
      "outputs": [
        {
          "output_type": "stream",
          "name": "stdout",
          "text": [
            "enter the elements of list: 11 22 23 23 33 33 44 55 65 65 77 87 87 98\n",
            "The unique elements from the list are: [11, 22, 23, 33, 44, 55, 65, 77, 87, 98]\n"
          ]
        }
      ]
    },
    {
      "cell_type": "code",
      "source": [
        "#5.Write a function that accepts a string and calculate the number of upper-case letters and lower-case letters.\n",
        "inp_string=input(\"enter the string:\")\n",
        "#creating the function to count no of lower and upper case charecters below \n",
        "def U_L_case_count(s):  \n",
        "  uc=0\n",
        "  lc=0\n",
        "  for i in s:\n",
        "    if i.isupper():\n",
        "      uc=uc+1\n",
        "      # we have sued islower function to track no of lower case charecters \n",
        "    elif i.islower():\n",
        "      lc=lc+1\n",
        "      # we have sued islower function to track no of lower case charecters \n",
        "    else:\n",
        "      pass\n",
        "  print(\"No of upper case charecters:\",uc)\n",
        "  print(\"No of lower case charecters:\",lc)\n",
        "U_L_case_count(inp_string)  "
      ],
      "metadata": {
        "colab": {
          "base_uri": "https://localhost:8080/"
        },
        "id": "J-JA9kn4SanI",
        "outputId": "79fb2a3d-74c8-4d58-8f70-633d7bc00b11"
      },
      "execution_count": null,
      "outputs": [
        {
          "output_type": "stream",
          "name": "stdout",
          "text": [
            "enter the string:The Man in the middle MonKey As a Donkey\n",
            "No of upper case charecters: 6\n",
            "No of lower case charecters: 26\n"
          ]
        }
      ]
    },
    {
      "cell_type": "code",
      "source": [],
      "metadata": {
        "id": "L-bY0KrdO6qh"
      },
      "execution_count": null,
      "outputs": []
    }
  ]
}