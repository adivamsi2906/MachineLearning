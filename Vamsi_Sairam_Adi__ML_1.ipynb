{
  "nbformat": 4,
  "nbformat_minor": 0,
  "metadata": {
    "colab": {
      "provenance": []
    },
    "kernelspec": {
      "name": "python3",
      "display_name": "Python 3"
    },
    "language_info": {
      "name": "python"
    }
  },
  "cells": [
    {
      "cell_type": "code",
      "execution_count": 31,
      "metadata": {
        "colab": {
          "base_uri": "https://localhost:8080/"
        },
        "id": "zmdqcW73Kr55",
        "outputId": "b54cdb6c-36d4-4c72-d6b0-ab7bac5c1cc1"
      },
      "outputs": [
        {
          "output_type": "stream",
          "name": "stdout",
          "text": [
            "Sorted ages are: [19, 19, 20, 22, 24, 24, 24, 25, 25, 26]\n",
            "Minimum is  19\n",
            "Maximum is 26\n",
            "Added min and max values again: [19, 19, 20, 22, 24, 24, 24, 25, 25, 26, 19, 26]\n",
            "Median is 24.0\n",
            "Avg is  22.75\n",
            "Range is  7\n"
          ]
        }
      ],
      "source": [
        "#Question:1\n",
        "#Importing statistics library\n",
        "import statistics\n",
        "ages = [19, 22, 19, 24, 20, 25, 26, 24, 25, 24]\n",
        "# Sorts age list in ascending order by default\n",
        "ages.sort()\n",
        "print (\"Sorted ages are:\", ages) # Displays sorted values\n",
        "# Minimum age\n",
        "# we used min() method\n",
        "print (\"Minimum is \", min(ages))\n",
        "# Maximum age\n",
        "# we used max() method\n",
        "print (\"Maximum is\", max(ages))\n",
        "#we use append() method to insert values to the list\n",
        "ages.append(min(ages))\n",
        "ages.append(max(ages))\n",
        "print (\"Added min and max values again:\",ages) \n",
        "# Median statistics library caluclates the statastical values \n",
        "mdn_age = statistics.median(ages)\n",
        "print (\"Median is\", mdn_age)\n",
        "# Average age\n",
        "average= sum(ages)/len(ages)\n",
        "print (\"Avg is \", average)\n",
        "# Range\n",
        "range=max(ages)-min(ages)\n",
        "print (\"Range is \", range)"
      ]
    },
    {
      "cell_type": "code",
      "source": [
        "#Question:2\n",
        "# Dog dictionary creation\n",
        "dog = {'name':'Sony','color':'white','breed':'Chubby','legs':'4','age':'23'}\n",
        "print (\"Dog Dictionary Created:\",dog)\n",
        "# Student dictionary creation\n",
        "student ={'first_name':'Bobby','last_name':'Ram','Gender':'Male','age':'22','marital_status':'single','skills':'singer','Country':'India','City':'Hyderabad','Address':'1247'}\n",
        "print (\"Student Dictionary Created:\",student)\n",
        "#Skills dictionary creation\n",
        "skills = {'dancer':'1','singer':'2','coder':'3'}\n",
        "print (\"Skills Dictionary Created:\",skills)\n",
        "# Find the length of student dictionary\n",
        "print (\"Length of student:\", len(student))\n",
        "# Check the datatype of skills\n",
        "print (\"Datatype fo skills:\",type(skills))\n",
        "# Get values of skills dictionary\n",
        "print (\"Values of skills:\",skills.values())\n",
        "# Add one item to skills\n",
        "skills['artist'] = 4\n",
        "print (\"New skill added:\",skills)\n",
        "# Get dog and student key and values\n",
        "print (\"Dog keys:\",dog.keys())\n",
        "print(\"Dog values:\",dog.values())\n",
        "print(\"Student keys:\",student.keys())\n",
        "print (\"Student values:\",student.values())"
      ],
      "metadata": {
        "colab": {
          "base_uri": "https://localhost:8080/"
        },
        "id": "ADbkOeyaNTgG",
        "outputId": "d6240e29-9efc-4bd1-8d4d-a6deb05a2a9f"
      },
      "execution_count": 10,
      "outputs": [
        {
          "output_type": "stream",
          "name": "stdout",
          "text": [
            "Dog Dictionary Created: {'name': 'Sony', 'color': 'white', 'breed': 'Chubby', 'legs': '4', 'age': '23'}\n",
            "Student Dictionary Created: {'first_name': 'Bobby', 'last_name': 'Ram', 'Gender': 'Male', 'age': '22', 'marital_status': 'single', 'skills': 'singer', 'Country': 'India', 'City': 'Hyderabad', 'Address': '1247'}\n",
            "Skills Dictionary Created: {'dancer': '1', 'singer': '2', 'coder': '3'}\n",
            "Length of student: 9\n",
            "Datatype fo skills: <class 'dict'>\n",
            "Values of skills: dict_values(['1', '2', '3'])\n",
            "New skill added: {'dancer': '1', 'singer': '2', 'coder': '3', 'artist': 4}\n",
            "Dog keys: dict_keys(['name', 'color', 'breed', 'legs', 'age'])\n",
            "Dog values: dict_values(['Sony', 'white', 'Chubby', '4', '23'])\n",
            "Student keys: dict_keys(['first_name', 'last_name', 'Gender', 'age', 'marital_status', 'skills', 'Country', 'City', 'Address'])\n",
            "Student values: dict_values(['Bobby', 'Ram', 'Male', '22', 'single', 'singer', 'India', 'Hyderabad', '1247'])\n"
          ]
        }
      ]
    },
    {
      "cell_type": "code",
      "source": [
        "#Question:3)Create tuple of sisters and brothers\n",
        "my_sisters = ('Sindhuja', 'Bhargavi','Hannu','Nishivika')\n",
        "my_brothers = ('Abhiram','Bannu','Tanoj','Junnu')\n",
        "# Create another tuple as siblings and join the sister’s and brother’s tuple\n",
        "siblings = my_sisters + my_brothers\n",
        "# Displays siblings’ output and length of siblings\n",
        "print(\"Siblings:\", siblings)\n",
        "print(\"Length of Siblings:\", len(siblings))\n",
        "# Create another tuple as family_members and add father and mother name to it\n",
        "family_members = siblings + ('Mahesh','Namratha')\n",
        "# Displays family_members output\n",
        "print(\"Family_members:\",family_members)"
      ],
      "metadata": {
        "colab": {
          "base_uri": "https://localhost:8080/"
        },
        "id": "FkOgYVwyQXpy",
        "outputId": "78fcc4a1-d2de-461f-ab6d-264ef6f5126f"
      },
      "execution_count": 11,
      "outputs": [
        {
          "output_type": "stream",
          "name": "stdout",
          "text": [
            "Siblings: ('Sindhuja', 'Bhargavi', 'Hannu', 'Nishivika', 'Abhiram', 'Bannu', 'Tanoj', 'Junnu')\n",
            "Length of Siblings: 8\n",
            "Family_members: ('Sindhuja', 'Bhargavi', 'Hannu', 'Nishivika', 'Abhiram', 'Bannu', 'Tanoj', 'Junnu', 'Mahesh', 'Namratha')\n"
          ]
        }
      ]
    },
    {
      "cell_type": "code",
      "source": [
        "#Question:4 Length of the set\n",
        "it_companies = {'Facebook', 'Google', 'Microsoft', 'Apple', 'IBM', 'Oracle', 'Amazon'}\n",
        "print(\"Length of it_companies:\", len(it_companies))\n",
        "#Add twitter\n",
        "it_companies.add('Twitter')\n",
        "print(\"After adding another item:\",it_companies)\n",
        "#Add multiple it_companies\n",
        "it_companies.update({'Infosys','Capgemini','Wipro','TCS'})\n",
        "print(\"After adding multiple items:\",it_companies)\n",
        "#Remove\n",
        "it_companies.remove('TCS')\n",
        "print(\"After removing one company:\",it_companies)\n",
        "#Discard\n",
        "it_companies.discard('TCS')\n",
        "#Discard doesn't raise any error if any item is not present in the set\n",
        "#Join A & B\n",
        "A = {19, 22, 24, 20, 25, 26}\n",
        "B = {19, 22, 20, 25, 26, 24, 28, 27}\n",
        "print(\"Join A and B:\", A.union(B))\n",
        "#Intersection\n",
        "print(\"Intersection of A and B:\", A.intersection(B))\n",
        "#Subset\n",
        "print(\"Subset of A and B:\", A.issubset(B))\n",
        "#Disjoint\n",
        "print(\"Disjoint:\", A.isdisjoint(B))\n",
        "#Convert list to set\n",
        "age = [22, 19, 24, 25, 26, 24, 25, 24]\n",
        "print(\"Converting list to set:\", set(age))\n",
        "#Length of set\n",
        "print(\"Length of set:\",len(set(age)))\n",
        "#Length of list\n",
        "print(\"Length of list:\",len(age))\n",
        "#Symmetric diff- returns values which are not in common with other set\n",
        "print(\"Symmetric diff:\",A.symmetric_difference(B))\n",
        "#delete set\n",
        "A.clear()\n",
        "print(A)\n",
        "B.clear()\n",
        "print(B)"
      ],
      "metadata": {
        "colab": {
          "base_uri": "https://localhost:8080/"
        },
        "id": "Q3XXwEzDSW3i",
        "outputId": "ea681d71-8f85-4b29-d9ec-6ab4ba1d4c79"
      },
      "execution_count": 13,
      "outputs": [
        {
          "output_type": "stream",
          "name": "stdout",
          "text": [
            "Length of it_companies: 7\n",
            "After adding another item: {'Oracle', 'Amazon', 'Apple', 'IBM', 'Twitter', 'Google', 'Facebook', 'Microsoft'}\n",
            "After adding multiple items: {'Oracle', 'Wipro', 'Amazon', 'Apple', 'Infosys', 'IBM', 'TCS', 'Twitter', 'Capgemini', 'Google', 'Facebook', 'Microsoft'}\n",
            "After removing one company: {'Oracle', 'Wipro', 'Amazon', 'Apple', 'Infosys', 'IBM', 'Twitter', 'Capgemini', 'Google', 'Facebook', 'Microsoft'}\n",
            "Join A and B: {19, 20, 22, 24, 25, 26, 27, 28}\n",
            "Intersection of A and B: {19, 20, 22, 24, 25, 26}\n",
            "Subset of A and B: True\n",
            "Disjoint: False\n",
            "Converting list to set: {19, 22, 24, 25, 26}\n",
            "Length of set: 5\n",
            "Length of list: 8\n",
            "Symmetric diff: {27, 28}\n",
            "set()\n",
            "set()\n"
          ]
        }
      ]
    },
    {
      "cell_type": "code",
      "source": [
        "#Question:5: Area and circumference of a circle\n",
        "# Radius value is expected to be entered as input from the user \n",
        "radius = int(input(\"enter radius of the circle:\"))\n",
        "# Calculate area of circle and circumference of circle\n",
        "area_of_circle = 3.14*radius*radius\n",
        "circum_of_circle = 2*3.14*radius\n",
        "# Display area of circle and circumference of circle\n",
        "print(\"Area of Circle is:\",area_of_circle)\n",
        "print(\"Circumference of Circle is:\",circum_of_circle)\n"
      ],
      "metadata": {
        "colab": {
          "base_uri": "https://localhost:8080/"
        },
        "id": "72NhVQXxcPl6",
        "outputId": "435e49b4-baf7-4734-8964-b4d1b8c0677c"
      },
      "execution_count": 17,
      "outputs": [
        {
          "output_type": "stream",
          "name": "stdout",
          "text": [
            "enter radius of the circle:11\n",
            "Area of Circle is: 379.94\n",
            "Circumference of Circle is: 69.08\n"
          ]
        }
      ]
    },
    {
      "cell_type": "code",
      "source": [
        "#Question:6 Finding unique words using split and set methods\n",
        "Sentence = \"I am a teacher and I love to inspire and teach people\"\n",
        "# Use split method to separate the words and set to get the unique values\n",
        "word=set(Sentence.split(\" \"))\n",
        "print(\"The words used int he sentence are:\",word)\n",
        "print (\"The number of unique words used in the sentence are: \",len(word))"
      ],
      "metadata": {
        "colab": {
          "base_uri": "https://localhost:8080/"
        },
        "id": "HlVOotOod80L",
        "outputId": "6fbb089a-5a29-4d4a-d6f6-704e902cb76a"
      },
      "execution_count": 20,
      "outputs": [
        {
          "output_type": "stream",
          "name": "stdout",
          "text": [
            "The words used int he sentence are: {'inspire', 'am', 'teacher', 'I', 'to', 'teach', 'a', 'love', 'people', 'and'}\n",
            "The number of unique words used in the sentence are:  10\n"
          ]
        }
      ]
    },
    {
      "cell_type": "code",
      "source": [
        "#Question:7: Usage of  the \\t tab  escape sequence \n",
        "Bio_Data= \"Name\\t Age\\tCountry\\tCity\\t\\nAsabeneh 250\\tFinland\\tHelsinki\"\n",
        "#\\t is used for tab and \\n is used for new line \n",
        "print(Bio_Data)"
      ],
      "metadata": {
        "colab": {
          "base_uri": "https://localhost:8080/"
        },
        "id": "yl3gSt_8fBz6",
        "outputId": "a9c042ef-4066-4cfa-9fc2-95a59a3558b1"
      },
      "execution_count": 22,
      "outputs": [
        {
          "output_type": "stream",
          "name": "stdout",
          "text": [
            "Name\t Age\tCountry\tCity\t\n",
            "Asabeneh 250\tFinland\tHelsinki\n"
          ]
        }
      ]
    },
    {
      "cell_type": "code",
      "source": [
        "#Question:8\n",
        "#Use the string formatting method to display the following:\n",
        "radius=10\n",
        "print('radius = 10')\n",
        "area=3.14*radius**2\n",
        "print('area = 3.14*radius**2')\n",
        "print('\"The area of circle with radius {0} is {1} meters square\"'.format(radius,area))\n"
      ],
      "metadata": {
        "colab": {
          "base_uri": "https://localhost:8080/"
        },
        "id": "Ht_YqFpcgLJ7",
        "outputId": "82daa1d2-9d9f-439d-e24f-d81abbc3f5dd"
      },
      "execution_count": 27,
      "outputs": [
        {
          "output_type": "stream",
          "name": "stdout",
          "text": [
            "radius = 10\n",
            "area = 3.14*radius**2\n",
            "\"The area of circle with radius 10 is 314.0 meters square\"\n"
          ]
        }
      ]
    },
    {
      "cell_type": "code",
      "source": [
        "#Question9:Write a program, which reads weights (lbs.) of N students into a list and convert these weights to kilograms in a separate list using Loop. N: No of students (Read input from user)\n",
        "\n",
        "#Creating a list(L1) for weights(lbs) of N students\n",
        "Weight_LB=[int(num) for num in input().split(\" \")]\n",
        "#Creating another list called W_kg\n",
        "Weight_kg=[]\n",
        "#Using for loop to iterate the values and appending the list\n",
        "for i in Weight_LB:\n",
        "  Weight_kg.append(round(i/2.205,2))\n",
        "#Displaying the values in kgs after conversion\n",
        "print (\"Weight in KGs  are:\",Weight_kg)"
      ],
      "metadata": {
        "colab": {
          "base_uri": "https://localhost:8080/"
        },
        "id": "stT0VnZShorL",
        "outputId": "73b26b27-aa6a-4da4-aef4-58e817c3ed3d"
      },
      "execution_count": 30,
      "outputs": [
        {
          "output_type": "stream",
          "name": "stdout",
          "text": [
            "150 155 145 158\n",
            "Weight in KGs  are: [68.03, 70.29, 65.76, 71.66]\n"
          ]
        }
      ]
    }
  ]
}